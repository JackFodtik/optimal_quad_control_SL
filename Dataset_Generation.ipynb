{
 "cells": [
  {
   "cell_type": "markdown",
   "metadata": {},
   "source": [
    "# Demonstrating the dataset generation for an ampl model\n",
    "\n",
    "This notebook shows the generation of the dataset that are subsequently used to train a neural network for optimal control."
   ]
  },
  {
   "cell_type": "code",
   "execution_count": 7,
   "metadata": {},
   "outputs": [],
   "source": [
    "### %pylab notebook\n",
    "from pyquad.ekin import*\n",
    "from tqdm import tqdm"
   ]
  },
  {
   "cell_type": "code",
   "execution_count": 8,
   "metadata": {},
   "outputs": [],
   "source": [
    "ampl_mod_path = \"ampl/bebop_model_new.mod\"\n",
    "\n",
    "num = 10\n",
    "\n",
    "# INITIAL CONDITIONS IN WORLD COORDINATES\n",
    "x0 = np.random.uniform(-5.0, 5.0, num)\n",
    "y0 = np.random.uniform(-5.0, 5.0, num)\n",
    "z0 = np.random.uniform(-1.0, 1.0, num)\n",
    "\n",
    "vx0 = np.random.uniform(-0.5,0.5, num)\n",
    "vy0 = np.random.uniform(-0.5,0.5, num)\n",
    "vz0 = np.random.uniform(-0.5,0.5, num)\n",
    "\n",
    "phi0   = np.random.uniform(-40, 40, num)*np.pi/180\n",
    "theta0 = np.random.uniform(-40, 40, num)*np.pi/180\n",
    "psi0   = np.random.uniform(-180, 180, num)*np.pi/180\n",
    "\n",
    "p0     = np.random.uniform(-1., 1., num)\n",
    "q0     = np.random.uniform(-1., 1., num)\n",
    "r0     = np.random.uniform(-1., 1., num)\n",
    "\n",
    "utau0  = np.random.uniform(0, 1, [num, 4])\n",
    "\n",
    "Mx_ext = 0*np.random.uniform(-.04, .04, num)\n",
    "My_ext = 0*np.random.uniform(-.04, .04, num)\n",
    "Mz_ext = 0*np.random.uniform(-.01, .01, num)\n",
    "\n",
    "def transform(x,y,z,vx,vy,vz, phi,theta,psi):\n",
    "    Rx = np.array([[1, 0, 0], [0, np.cos(phi), -np.sin(phi)], [0, np.sin(phi), np.cos(phi)]])\n",
    "    Ry = np.array([[np.cos(theta), 0, np.sin(theta)], [0, 1, 0], [-np.sin(theta), 0, np.cos(theta)]])\n",
    "    Rz = np.array([[np.cos(psi), -np.sin(psi), 0], [np.sin(psi), np.cos(psi), 0], [0, 0, 1]])\n",
    "    R = Rz@Ry@Rx\n",
    "    dx, dy, dz = -R.T@[x, y, z]\n",
    "    vx, vy, vz =  R.T@[vx,vy,vz]\n",
    "    return dx, dy, dz, vx, vy, vz\n",
    "\n",
    "# IN BODY COORDINATES\n",
    "dx0, dy0, dz0, vx0, vy0, vz0 = np.vectorize(transform)(x0, y0, z0, vx0, vy0, vz0, phi0, theta0, psi0)\n",
    "\n",
    "parameters = {\n",
    "        \"dx0\"    : dx0,\n",
    "        \"dy0\"    : dy0, \n",
    "        \"dz0\"    : dz0,\n",
    "        \"vx0\"    : vx0,\n",
    "        \"vy0\"    : vy0,\n",
    "        \"vz0\"    : vz0,\n",
    "        \"phi0\"   : phi0,\n",
    "        \"theta0\" : theta0,\n",
    "        \"psi0\"   : psi0,\n",
    "        \"p0\"     : p0,\n",
    "        \"q0\"     : q0,\n",
    "        \"r0\"     : r0,\n",
    "        \"utau0\"  : utau0,\n",
    "        \"Mx_ext\": Mx_ext,\n",
    "        \"My_ext\": My_ext,\n",
    "        \"Mz_ext\": Mz_ext\n",
    "}\n",
    "\n",
    "\n",
    "# FINAL CONDITIONS\n",
    "dxn = 0.\n",
    "dyn = 0.\n",
    "dzn = 0.\n",
    "\n",
    "vxn = 0.\n",
    "vyn = 0\n",
    "vzn = 0.\n",
    "\n",
    "phin = 0.\n",
    "thetan = 0.\n",
    "psin = 0.\n",
    "\n",
    "pn = 0.\n",
    "qn = 0.\n",
    "rn = 0.\n",
    "\n",
    "fixed_parameters = {\n",
    "    \"dxn\"         : dxn,\n",
    "    \"dyn\"         : dyn, \n",
    "    \"dzn\"         : dzn,\n",
    "    \"vxn\"         : vxn,\n",
    "    \"vyn\"         : vyn,\n",
    "    \"vzn\"         : vzn,\n",
    "    \"phin\"        : phin,\n",
    "    \"thetan\"      : thetan,\n",
    "    \"psin\"        : psin,\n",
    "    \"pn\"          : pn,\n",
    "    \"qn\"          : qn,\n",
    "    \"rn\"          : rn,\n",
    "    \"epsilon\"     : 1.,\n",
    "    \"n\"           : 100,\n",
    "    \"omega_max\"   : 9500,\n",
    "    \"omega_min\"   : 5500\n",
    "}"
   ]
  },
  {
   "cell_type": "code",
   "execution_count": 9,
   "metadata": {},
   "outputs": [],
   "source": [
    "def run_ampl_model(param_dict, file_path):\n",
    "    model = AMPLModel(ampl_mod_path)\n",
    "    model.setParameterValues(param_dict)\n",
    "    model.setParameterValues(fixed_parameters)\n",
    "    model.solve()\n",
    "    soln_vals = model.getSolutionValues()\n",
    "    obj_vals = model.getObjectiveValues()\n",
    "    # save solution to file\n",
    "    np.savez(file_path, **{\"Success\": model.checkSolved(), \"t\": soln_vals['timegrid'], **soln_vals, **obj_vals, **param_dict, **fixed_parameters})"
   ]
  },
  {
   "cell_type": "code",
   "execution_count": 10,
   "metadata": {},
   "outputs": [],
   "source": [
    "name = 'HOVER_TO_HOVER_NOMINAL'\n",
    "datafolder = 'datasets/' + name\n",
    "datafile = 'datasets/' + name + '.npz'\n",
    "\n",
    "# make folder if it doesn't exist\n",
    "if not os.path.exists(datafolder):\n",
    "    os.makedirs(datafolder)"
   ]
  },
  {
   "cell_type": "code",
   "execution_count": 11,
   "metadata": {},
   "outputs": [
    {
     "name": "stderr",
     "output_type": "stream",
     "text": [
      "  0%|          | 0/10 [00:00<?, ?it/s]"
     ]
    },
    {
     "name": "stderr",
     "output_type": "stream",
     "text": [
      "*******************************************************************************\n",
      "*                                                                             *\n",
      "* Please make sure that the AMPL directory is in the system search path, or   *\n",
      "* add it before instantiating the AMPL object with:                           *\n",
      "*                                                                             *\n",
      "*     from amplpy import AMPL, add_to_path                                    *\n",
      "*     add_to_path(r\"full path to the AMPL installation directory\")            *\n",
      "*     ampl = AMPL()                                                           *\n",
      "*                                                                             *\n",
      "* Or, if you are using amplpy.modules, please make sure that they are installed: *\n",
      "*                                                                             *\n",
      "*     # Install solver modules (e.g., HiGHS, CBC, Gurobi)                     *\n",
      "*     $ python -m amplpy.modules install highs cbc gurobi                     *\n",
      "*                                                                             *\n",
      "*******************************************************************************\n"
     ]
    },
    {
     "ename": "RuntimeError",
     "evalue": "AMPL could not be started. Message from process thread:\ncannot execute ampl: Permission denied\n\n",
     "output_type": "error",
     "traceback": [
      "\u001b[0;31m---------------------------------------------------------------------------\u001b[0m",
      "\u001b[0;31mRuntimeError\u001b[0m                              Traceback (most recent call last)",
      "Cell \u001b[0;32mIn[11], line 6\u001b[0m\n\u001b[1;32m      4\u001b[0m \u001b[38;5;66;03m# solve trajectories in parallel\u001b[39;00m\n\u001b[1;32m      5\u001b[0m njobs \u001b[38;5;241m=\u001b[39m \u001b[38;5;241m1\u001b[39m\n\u001b[0;32m----> 6\u001b[0m sol_lst \u001b[38;5;241m=\u001b[39m \u001b[43mjoblib\u001b[49m\u001b[38;5;241;43m.\u001b[39;49m\u001b[43mParallel\u001b[49m\u001b[43m(\u001b[49m\u001b[43mnjobs\u001b[49m\u001b[43m)\u001b[49m\u001b[43m(\u001b[49m\u001b[43mjoblib\u001b[49m\u001b[38;5;241;43m.\u001b[39;49m\u001b[43mdelayed\u001b[49m\u001b[43m(\u001b[49m\u001b[43mrun_ampl_model\u001b[49m\u001b[43m)\u001b[49m\u001b[43m(\u001b[49m\n\u001b[1;32m      7\u001b[0m \u001b[43m    \u001b[49m\u001b[43m{\u001b[49m\u001b[43mkey\u001b[49m\u001b[43m:\u001b[49m\u001b[43m \u001b[49m\u001b[43mval\u001b[49m\u001b[43m[\u001b[49m\u001b[43midx\u001b[49m\u001b[43m]\u001b[49m\u001b[43m \u001b[49m\u001b[38;5;28;43;01mfor\u001b[39;49;00m\u001b[43m \u001b[49m\u001b[43mkey\u001b[49m\u001b[43m,\u001b[49m\u001b[43mval\u001b[49m\u001b[43m \u001b[49m\u001b[38;5;129;43;01min\u001b[39;49;00m\u001b[43m \u001b[49m\u001b[43mparameters\u001b[49m\u001b[38;5;241;43m.\u001b[39;49m\u001b[43mitems\u001b[49m\u001b[43m(\u001b[49m\u001b[43m)\u001b[49m\u001b[43m}\u001b[49m\u001b[43m,\u001b[49m\n\u001b[1;32m      8\u001b[0m \u001b[43m    \u001b[49m\u001b[43mdatafolder\u001b[49m\u001b[43m \u001b[49m\u001b[38;5;241;43m+\u001b[39;49m\u001b[43m \u001b[49m\u001b[38;5;124;43m'\u001b[39;49m\u001b[38;5;124;43m/\u001b[39;49m\u001b[38;5;124;43m'\u001b[39;49m\u001b[43m \u001b[49m\u001b[38;5;241;43m+\u001b[39;49m\u001b[43m \u001b[49m\u001b[38;5;28;43mstr\u001b[39;49m\u001b[43m(\u001b[49m\u001b[43midx\u001b[49m\u001b[43m)\u001b[49m\n\u001b[1;32m      9\u001b[0m \u001b[43m)\u001b[49m\u001b[43m \u001b[49m\u001b[38;5;28;43;01mfor\u001b[39;49;00m\u001b[43m \u001b[49m\u001b[43midx\u001b[49m\u001b[43m \u001b[49m\u001b[38;5;129;43;01min\u001b[39;49;00m\u001b[43m \u001b[49m\u001b[43mtqdm\u001b[49m\u001b[43m(\u001b[49m\u001b[43mindex_set\u001b[49m\u001b[43m)\u001b[49m\u001b[43m)\u001b[49m\n\u001b[1;32m     11\u001b[0m \u001b[38;5;28mprint\u001b[39m(\u001b[38;5;124m'\u001b[39m\u001b[38;5;124mGenerated\u001b[39m\u001b[38;5;124m'\u001b[39m, num,\u001b[38;5;124m'\u001b[39m\u001b[38;5;124mtrajectories in\u001b[39m\u001b[38;5;124m'\u001b[39m, datafolder)\n",
      "File \u001b[0;32m~/miniconda3/envs/quad/lib/python3.11/site-packages/joblib/parallel.py:1863\u001b[0m, in \u001b[0;36mParallel.__call__\u001b[0;34m(self, iterable)\u001b[0m\n\u001b[1;32m   1861\u001b[0m     output \u001b[38;5;241m=\u001b[39m \u001b[38;5;28mself\u001b[39m\u001b[38;5;241m.\u001b[39m_get_sequential_output(iterable)\n\u001b[1;32m   1862\u001b[0m     \u001b[38;5;28mnext\u001b[39m(output)\n\u001b[0;32m-> 1863\u001b[0m     \u001b[38;5;28;01mreturn\u001b[39;00m output \u001b[38;5;28;01mif\u001b[39;00m \u001b[38;5;28mself\u001b[39m\u001b[38;5;241m.\u001b[39mreturn_generator \u001b[38;5;28;01melse\u001b[39;00m \u001b[38;5;28;43mlist\u001b[39;49m\u001b[43m(\u001b[49m\u001b[43moutput\u001b[49m\u001b[43m)\u001b[49m\n\u001b[1;32m   1865\u001b[0m \u001b[38;5;66;03m# Let's create an ID that uniquely identifies the current call. If the\u001b[39;00m\n\u001b[1;32m   1866\u001b[0m \u001b[38;5;66;03m# call is interrupted early and that the same instance is immediately\u001b[39;00m\n\u001b[1;32m   1867\u001b[0m \u001b[38;5;66;03m# re-used, this id will be used to prevent workers that were\u001b[39;00m\n\u001b[1;32m   1868\u001b[0m \u001b[38;5;66;03m# concurrently finalizing a task from the previous call to run the\u001b[39;00m\n\u001b[1;32m   1869\u001b[0m \u001b[38;5;66;03m# callback.\u001b[39;00m\n\u001b[1;32m   1870\u001b[0m \u001b[38;5;28;01mwith\u001b[39;00m \u001b[38;5;28mself\u001b[39m\u001b[38;5;241m.\u001b[39m_lock:\n",
      "File \u001b[0;32m~/miniconda3/envs/quad/lib/python3.11/site-packages/joblib/parallel.py:1792\u001b[0m, in \u001b[0;36mParallel._get_sequential_output\u001b[0;34m(self, iterable)\u001b[0m\n\u001b[1;32m   1790\u001b[0m \u001b[38;5;28mself\u001b[39m\u001b[38;5;241m.\u001b[39mn_dispatched_batches \u001b[38;5;241m+\u001b[39m\u001b[38;5;241m=\u001b[39m \u001b[38;5;241m1\u001b[39m\n\u001b[1;32m   1791\u001b[0m \u001b[38;5;28mself\u001b[39m\u001b[38;5;241m.\u001b[39mn_dispatched_tasks \u001b[38;5;241m+\u001b[39m\u001b[38;5;241m=\u001b[39m \u001b[38;5;241m1\u001b[39m\n\u001b[0;32m-> 1792\u001b[0m res \u001b[38;5;241m=\u001b[39m \u001b[43mfunc\u001b[49m\u001b[43m(\u001b[49m\u001b[38;5;241;43m*\u001b[39;49m\u001b[43margs\u001b[49m\u001b[43m,\u001b[49m\u001b[43m \u001b[49m\u001b[38;5;241;43m*\u001b[39;49m\u001b[38;5;241;43m*\u001b[39;49m\u001b[43mkwargs\u001b[49m\u001b[43m)\u001b[49m\n\u001b[1;32m   1793\u001b[0m \u001b[38;5;28mself\u001b[39m\u001b[38;5;241m.\u001b[39mn_completed_tasks \u001b[38;5;241m+\u001b[39m\u001b[38;5;241m=\u001b[39m \u001b[38;5;241m1\u001b[39m\n\u001b[1;32m   1794\u001b[0m \u001b[38;5;28mself\u001b[39m\u001b[38;5;241m.\u001b[39mprint_progress()\n",
      "Cell \u001b[0;32mIn[9], line 2\u001b[0m, in \u001b[0;36mrun_ampl_model\u001b[0;34m(param_dict, file_path)\u001b[0m\n\u001b[1;32m      1\u001b[0m \u001b[38;5;28;01mdef\u001b[39;00m \u001b[38;5;21mrun_ampl_model\u001b[39m(param_dict, file_path):\n\u001b[0;32m----> 2\u001b[0m     model \u001b[38;5;241m=\u001b[39m \u001b[43mAMPLModel\u001b[49m\u001b[43m(\u001b[49m\u001b[43mampl_mod_path\u001b[49m\u001b[43m)\u001b[49m\n\u001b[1;32m      3\u001b[0m     model\u001b[38;5;241m.\u001b[39msetParameterValues(param_dict)\n\u001b[1;32m      4\u001b[0m     model\u001b[38;5;241m.\u001b[39msetParameterValues(fixed_parameters)\n",
      "File \u001b[0;32m~/Git/optimal_quad_control_SL/pyquad/ekin.py:483\u001b[0m, in \u001b[0;36mAMPLModel.__init__\u001b[0;34m(self, ampl_mod_path)\u001b[0m\n\u001b[1;32m    482\u001b[0m \u001b[38;5;28;01mdef\u001b[39;00m \u001b[38;5;21m__init__\u001b[39m(\u001b[38;5;28mself\u001b[39m, ampl_mod_path):\n\u001b[0;32m--> 483\u001b[0m     \u001b[38;5;28mself\u001b[39m\u001b[38;5;241m.\u001b[39mampl \u001b[38;5;241m=\u001b[39m \u001b[43mAMPL\u001b[49m\u001b[43m(\u001b[49m\u001b[43m)\u001b[49m\n\u001b[1;32m    484\u001b[0m     \u001b[38;5;28mself\u001b[39m\u001b[38;5;241m.\u001b[39mampl\u001b[38;5;241m.\u001b[39mread(ampl_mod_path)\n\u001b[1;32m    485\u001b[0m     \u001b[38;5;28mself\u001b[39m\u001b[38;5;241m.\u001b[39mampl_mod_path \u001b[38;5;241m=\u001b[39m ampl_mod_path\n",
      "File \u001b[0;32m~/miniconda3/envs/quad/lib/python3.11/site-packages/amplpy/ampl.py:104\u001b[0m, in \u001b[0;36mAMPL.__init__\u001b[0;34m(self, environment)\u001b[0m\n\u001b[1;32m    102\u001b[0m     environment \u001b[38;5;241m=\u001b[39m Environment()\n\u001b[1;32m    103\u001b[0m \u001b[38;5;28;01mif\u001b[39;00m environment \u001b[38;5;129;01mis\u001b[39;00m \u001b[38;5;28;01mNone\u001b[39;00m:\n\u001b[0;32m--> 104\u001b[0m     \u001b[38;5;28mself\u001b[39m\u001b[38;5;241m.\u001b[39m_impl \u001b[38;5;241m=\u001b[39m \u001b[43mamplpython\u001b[49m\u001b[38;5;241;43m.\u001b[39;49m\u001b[43mAMPL\u001b[49m\u001b[43m(\u001b[49m\u001b[43m)\u001b[49m\n\u001b[1;32m    105\u001b[0m \u001b[38;5;28;01melse\u001b[39;00m:\n\u001b[1;32m    106\u001b[0m     \u001b[38;5;28mself\u001b[39m\u001b[38;5;241m.\u001b[39m_impl \u001b[38;5;241m=\u001b[39m amplpython\u001b[38;5;241m.\u001b[39mAMPL(environment\u001b[38;5;241m.\u001b[39m_impl)\n",
      "\u001b[0;31mRuntimeError\u001b[0m: AMPL could not be started. Message from process thread:\ncannot execute ampl: Permission denied\n\n"
     ]
    }
   ],
   "source": [
    "##### trajectories to solve\n",
    "index_set = set(range(num)) -  {int(file.replace('.npz','')) for file in os.listdir(datafolder)}\n",
    "\n",
    "# solve trajectories in parallel\n",
    "njobs = 1\n",
    "sol_lst = joblib.Parallel(njobs)(joblib.delayed(run_ampl_model)(\n",
    "    {key: val[idx] for key,val in parameters.items()},\n",
    "    datafolder + '/' + str(idx)\n",
    ") for idx in tqdm(index_set))\n",
    "\n",
    "print('Generated', num,'trajectories in', datafolder)"
   ]
  },
  {
   "cell_type": "markdown",
   "metadata": {},
   "source": [
    "**View trajectories**"
   ]
  },
  {
   "cell_type": "code",
   "execution_count": null,
   "metadata": {},
   "outputs": [],
   "source": [
    "def transform_back(dx,dy,dz,vx,vy,vz,phi,theta,psi):\n",
    "    Rx = np.array([\n",
    "        [1, 0, 0],\n",
    "        [0, np.cos(phi), -np.sin(phi)],\n",
    "        [0, np.sin(phi), np.cos(phi)]\n",
    "    ])\n",
    "    Ry = np.array([\n",
    "        [np.cos(theta), 0, np.sin(theta)],\n",
    "        [0, 1, 0],\n",
    "        [-np.sin(theta), 0, np.cos(theta)]\n",
    "    ])\n",
    "    Rz = np.array([\n",
    "        [np.cos(psi), -np.sin(psi), 0],\n",
    "        [np.sin(psi), np.cos(psi), 0],\n",
    "        [0, 0, 1]\n",
    "    ])\n",
    "    R = Rz@Ry@Rx\n",
    "    x_new, y_new, z_new = -R@[dx, dy, dz]\n",
    "    vx_new, vy_new, vz_new = R@[vx, vy, vz]\n",
    "    return x_new, y_new, z_new, vx_new, vy_new, vz_new, phi, theta, psi"
   ]
  },
  {
   "cell_type": "code",
   "execution_count": null,
   "metadata": {
    "scrolled": true
   },
   "outputs": [],
   "source": [
    "%matplotlib notebook\n",
    "a = np.load(datafile)\n",
    "num = a['dx'].shape[0]\n",
    "print(num)\n",
    "\n",
    "t,dx,dy,dz,vx,vy,vz,phi,theta,psi,u = (a[key][0:1000] for key in 't dx dy dz vx vy vz phi theta psi u'.split(' '))"
   ]
  },
  {
   "cell_type": "code",
   "execution_count": null,
   "metadata": {},
   "outputs": [],
   "source": [
    "from quadcopter_animation import animation\n",
    "import importlib\n",
    "importlib.reload(animation)\n",
    "\n",
    "x,y,z,vx,vy,vz,phi,theta,psi = np.vectorize(transform_back)(dx,dy,dz,vx,vy,vz,phi,theta,psi)\n",
    "# t,x,y,z,vx,vy,vz,phi,theta,psi,u = (a[key] for key in 't x y z vx vy vz phi theta psi u'.split(' '))\n",
    "\n",
    "animation.animate(t, x, y, z, phi, theta, psi, u, multiple_trajectories=True, simultaneous=False, step=1, waypoints=[np.array([0,0,0])], colors=[(255,0,0)]*100)"
   ]
  }
 ],
 "metadata": {
  "kernelspec": {
   "display_name": "Python 3 (ipykernel)",
   "language": "python",
   "name": "python3"
  },
  "language_info": {
   "codemirror_mode": {
    "name": "ipython",
    "version": 3
   },
   "file_extension": ".py",
   "mimetype": "text/x-python",
   "name": "python",
   "nbconvert_exporter": "python",
   "pygments_lexer": "ipython3",
   "version": "3.11.6"
  }
 },
 "nbformat": 4,
 "nbformat_minor": 2
}
